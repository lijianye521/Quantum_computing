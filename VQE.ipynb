{
 "cells": [
  {
   "cell_type": "code",
   "execution_count": 7,
   "id": "d038d6bd",
   "metadata": {},
   "outputs": [],
   "source": [
    "import numpy as np\n",
    "from qiskit import Aer\n",
    "from qiskit.algorithms import VQE, NumPyMinimumEigensolver\n",
    "from qiskit.algorithms.optimizers import COBYLA\n",
    "from qiskit.opflow import X, Z, I\n",
    "from qiskit.utils import QuantumInstance\n",
    "from qiskit.circuit.library import TwoLocal\n"
   ]
  },
  {
   "cell_type": "code",
   "execution_count": 8,
   "id": "d8c491bf",
   "metadata": {},
   "outputs": [
    {
     "name": "stdout",
     "output_type": "stream",
     "text": [
      "NumPy 最小特征值:  -0.9999999999999988\n"
     ]
    }
   ],
   "source": [
    "# 定义 Hamiltonian\n",
    "H = (0.5 * Z ^ I) + (0.5 * I ^ Z) + (0.5 * Z ^ Z) + (0.5 * X ^ X)\n",
    "\n",
    "# 使用 NumPy 求解最小特征值（用作基准）\n",
    "numpy_solver = NumPyMinimumEigensolver()\n",
    "result = numpy_solver.compute_minimum_eigenvalue(H)\n",
    "print(\"NumPy 最小特征值: \", result.eigenvalue.real)"
   ]
  },
  {
   "cell_type": "code",
   "execution_count": 9,
   "id": "76c531b3",
   "metadata": {},
   "outputs": [],
   "source": [
    "# 定义量子神经网络（QNN）\n",
    "qnn = TwoLocal(rotation_blocks=\"ry\", entanglement_blocks=\"cz\", entanglement=\"linear\", reps=3)\n",
    "\n",
    "# 设置优化器\n",
    "optimizer = COBYLA(maxiter=500)\n",
    "\n",
    "# 设置后端\n",
    "backend = Aer.get_backend(\"statevector_simulator\")\n",
    "quantum_instance = QuantumInstance(backend, shots=1000)"
   ]
  },
  {
   "cell_type": "code",
   "execution_count": 11,
   "id": "5b977e22",
   "metadata": {},
   "outputs": [
    {
     "name": "stdout",
     "output_type": "stream",
     "text": [
      "VQE 最小特征值:  -0.9999999802678516\n"
     ]
    }
   ],
   "source": [
    "# 使用 VQE 求解最小特征值\n",
    "vqe = VQE(ansatz=qnn, optimizer=optimizer, quantum_instance=quantum_instance)\n",
    "vqe_result = vqe.compute_minimum_eigenvalue(H)\n",
    "print(\"VQE 最小特征值: \", vqe_result.eigenvalue.real)"
   ]
  },
  {
   "cell_type": "code",
   "execution_count": 12,
   "id": "f1a2767c",
   "metadata": {},
   "outputs": [
    {
     "data": {
      "image/png": "[encoded data removed]",
      "text/plain": [
       "<Figure size 640x480 with 1 Axes>"
      ]
     },
     "metadata": {},
     "output_type": "display_data"
    }
   ],
   "source": [
    "# 绘制量子电路\n",
    "fig, ax = plt.subplots()\n",
    "ax.axis('off')\n",
    "qnn.draw('mpl', scale=0.7, ax=ax)\n",
    "plt.show()"
   ]
  },
  {
   "cell_type": "code",
   "execution_count": null,
   "id": "3896a66a",
   "metadata": {},
   "outputs": [],
   "source": []
  }
 ],
 "metadata": {
  "kernelspec": {
   "display_name": "qiskit_env",
   "language": "python",
   "name": "qiskit_env"
  },
  "language_info": {
   "codemirror_mode": {
    "name": "ipython",
    "version": 3
   },
   "file_extension": ".py",
   "mimetype": "text/x-python",
   "name": "python",
   "nbconvert_exporter": "python",
   "pygments_lexer": "ipython3",
   "version": "3.8.16"
  }
 },
 "nbformat": 4,
 "nbformat_minor": 5
}
